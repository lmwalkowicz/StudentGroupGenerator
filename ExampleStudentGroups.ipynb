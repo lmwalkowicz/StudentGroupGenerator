{
 "cells": [
  {
   "cell_type": "code",
   "execution_count": 2,
   "metadata": {
    "collapsed": false
   },
   "outputs": [
    {
     "data": {
      "text/plain": [
       "<module 'student_group_creator' from 'student_group_creator.pyc'>"
      ]
     },
     "execution_count": 2,
     "metadata": {},
     "output_type": "execute_result"
    }
   ],
   "source": [
    "import student_group_creator\n",
    "reload(student_group_creator) "
   ]
  },
  {
   "cell_type": "code",
   "execution_count": 3,
   "metadata": {
    "collapsed": true
   },
   "outputs": [],
   "source": [
    "from student_group_creator import *"
   ]
  },
  {
   "cell_type": "code",
   "execution_count": 5,
   "metadata": {
    "collapsed": false
   },
   "outputs": [],
   "source": [
    "groups = createGroups('testinputlist',[0,4,0])"
   ]
  },
  {
   "cell_type": "code",
   "execution_count": 6,
   "metadata": {
    "collapsed": false
   },
   "outputs": [
    {
     "data": {
      "text/html": [
       "<figure> <img style='width: 200px; border: 1px solid black;' src='./photodir/SteveBruleGoT.jpg' /> <img style='width: 200px; border: 1px solid black;' src='./photodir/SteveBruleGramble.jpg' /> <figcaption><h1>  Steve BruleGoT, Steve BruleGramble </figcaption> </figure>"
      ],
      "text/plain": [
       "<IPython.core.display.HTML object>"
      ]
     },
     "metadata": {},
     "output_type": "display_data"
    },
    {
     "data": {
      "text/html": [
       "<figure> <img style='width: 200px; border: 1px solid black;' src='./photodir/SteveBruleCake.jpg' /> <img style='width: 200px; border: 1px solid black;' src='./photodir/SteveBruleBday.jpg' /> <figcaption><h1>  Steve BruleCake, Steve BruleBday </figcaption> </figure>"
      ],
      "text/plain": [
       "<IPython.core.display.HTML object>"
      ]
     },
     "metadata": {},
     "output_type": "display_data"
    },
    {
     "data": {
      "text/html": [
       "<figure> <img style='width: 200px; border: 1px solid black;' src='./photodir/SteveBrule.jpg' /> <img style='width: 200px; border: 1px solid black;' src='./photodir/SteveBruleHunk.jpg' /> <figcaption><h1>  Steve Brule, Steve BruleHunk </figcaption> </figure>"
      ],
      "text/plain": [
       "<IPython.core.display.HTML object>"
      ]
     },
     "metadata": {},
     "output_type": "display_data"
    },
    {
     "data": {
      "text/html": [
       "<figure> <img style='width: 200px; border: 1px solid black;' src='./photodir/SteveBruleBringo.jpg' /> <img style='width: 200px; border: 1px solid black;' src='./photodir/SteveBrulePluto.jpg' /> <figcaption><h1>  Steve BruleBringo, Steve BrulePluto </figcaption> </figure>"
      ],
      "text/plain": [
       "<IPython.core.display.HTML object>"
      ]
     },
     "metadata": {},
     "output_type": "display_data"
    }
   ],
   "source": [
    "showStudents(groups)"
   ]
  },
  {
   "cell_type": "code",
   "execution_count": null,
   "metadata": {
    "collapsed": false
   },
   "outputs": [],
   "source": []
  },
  {
   "cell_type": "code",
   "execution_count": null,
   "metadata": {
    "collapsed": true
   },
   "outputs": [],
   "source": []
  },
  {
   "cell_type": "code",
   "execution_count": null,
   "metadata": {
    "collapsed": true
   },
   "outputs": [],
   "source": []
  }
 ],
 "metadata": {
  "kernelspec": {
   "display_name": "Python 2",
   "language": "python",
   "name": "python2"
  },
  "language_info": {
   "codemirror_mode": {
    "name": "ipython",
    "version": 2
   },
   "file_extension": ".py",
   "mimetype": "text/x-python",
   "name": "python",
   "nbconvert_exporter": "python",
   "pygments_lexer": "ipython2",
   "version": "2.7.11"
  }
 },
 "nbformat": 4,
 "nbformat_minor": 0
}
